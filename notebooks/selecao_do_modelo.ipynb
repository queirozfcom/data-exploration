{
 "cells": [
  {
   "cell_type": "code",
   "execution_count": 1,
   "metadata": {},
   "outputs": [],
   "source": [
    "import itertools\n",
    "import matplotlib.pyplot as plt\n",
    "import numpy as np\n",
    "import pandas as pd\n",
    "import pickle\n",
    "\n",
    "from scipy import stats\n",
    "from sklearn import metrics,preprocessing,svm\n",
    "\n",
    "from sklearn.model_selection import cross_val_score, KFold\n",
    "\n",
    "%matplotlib inline"
   ]
  },
  {
   "cell_type": "code",
   "execution_count": 2,
   "metadata": {},
   "outputs": [],
   "source": [
    "PATH_TO_DATA = '../data/raw/data.csv'\n",
    "PATH_TO_MODEL_DIRECTORY = '../models/'"
   ]
  },
  {
   "cell_type": "code",
   "execution_count": 3,
   "metadata": {},
   "outputs": [
    {
     "data": {
      "text/plain": [
       "182"
      ]
     },
     "execution_count": 3,
     "metadata": {},
     "output_type": "execute_result"
    }
   ],
   "source": [
    "SEED = np.random.randint(low=0,high=1000,size=1)[0]\n",
    "SEED"
   ]
  },
  {
   "cell_type": "code",
   "execution_count": 4,
   "metadata": {},
   "outputs": [],
   "source": [
    "df = pd.read_csv(PATH_TO_DATA)"
   ]
  },
  {
   "cell_type": "code",
   "execution_count": 5,
   "metadata": {},
   "outputs": [
    {
     "data": {
      "text/html": [
       "<div>\n",
       "<style>\n",
       "    .dataframe thead tr:only-child th {\n",
       "        text-align: right;\n",
       "    }\n",
       "\n",
       "    .dataframe thead th {\n",
       "        text-align: left;\n",
       "    }\n",
       "\n",
       "    .dataframe tbody tr th {\n",
       "        vertical-align: top;\n",
       "    }\n",
       "</style>\n",
       "<table border=\"1\" class=\"dataframe\">\n",
       "  <thead>\n",
       "    <tr style=\"text-align: right;\">\n",
       "      <th></th>\n",
       "      <th>V1</th>\n",
       "      <th>V2</th>\n",
       "      <th>V3</th>\n",
       "      <th>V4</th>\n",
       "      <th>Grupo</th>\n",
       "    </tr>\n",
       "  </thead>\n",
       "  <tbody>\n",
       "    <tr>\n",
       "      <th>0</th>\n",
       "      <td>5.1</td>\n",
       "      <td>3.5</td>\n",
       "      <td>1.4</td>\n",
       "      <td>0.2</td>\n",
       "      <td>G1</td>\n",
       "    </tr>\n",
       "    <tr>\n",
       "      <th>1</th>\n",
       "      <td>4.9</td>\n",
       "      <td>3.0</td>\n",
       "      <td>1.4</td>\n",
       "      <td>0.2</td>\n",
       "      <td>G1</td>\n",
       "    </tr>\n",
       "    <tr>\n",
       "      <th>2</th>\n",
       "      <td>4.7</td>\n",
       "      <td>3.2</td>\n",
       "      <td>1.3</td>\n",
       "      <td>0.2</td>\n",
       "      <td>G1</td>\n",
       "    </tr>\n",
       "    <tr>\n",
       "      <th>3</th>\n",
       "      <td>4.6</td>\n",
       "      <td>3.1</td>\n",
       "      <td>1.5</td>\n",
       "      <td>0.2</td>\n",
       "      <td>G1</td>\n",
       "    </tr>\n",
       "    <tr>\n",
       "      <th>4</th>\n",
       "      <td>5.0</td>\n",
       "      <td>3.6</td>\n",
       "      <td>1.4</td>\n",
       "      <td>0.2</td>\n",
       "      <td>G1</td>\n",
       "    </tr>\n",
       "  </tbody>\n",
       "</table>\n",
       "</div>"
      ],
      "text/plain": [
       "    V1   V2   V3   V4 Grupo\n",
       "0  5.1  3.5  1.4  0.2    G1\n",
       "1  4.9  3.0  1.4  0.2    G1\n",
       "2  4.7  3.2  1.3  0.2    G1\n",
       "3  4.6  3.1  1.5  0.2    G1\n",
       "4  5.0  3.6  1.4  0.2    G1"
      ]
     },
     "execution_count": 5,
     "metadata": {},
     "output_type": "execute_result"
    }
   ],
   "source": [
    "df.head()"
   ]
  },
  {
   "cell_type": "code",
   "execution_count": 6,
   "metadata": {},
   "outputs": [],
   "source": [
    "X = df[[\"V1\",\"V2\",\"V3\",\"V4\"]].values\n",
    "y = df[[\"Grupo\"]].values"
   ]
  },
  {
   "cell_type": "code",
   "execution_count": 7,
   "metadata": {},
   "outputs": [
    {
     "data": {
      "text/plain": [
       "(dtype('float64'), dtype('O'))"
      ]
     },
     "execution_count": 7,
     "metadata": {},
     "output_type": "execute_result"
    }
   ],
   "source": [
    "X.dtype,y.dtype"
   ]
  },
  {
   "cell_type": "code",
   "execution_count": 8,
   "metadata": {},
   "outputs": [
    {
     "name": "stdout",
     "output_type": "stream",
     "text": [
      "A ACURÁCIA DO MODELO É 0.9533333333333334\n"
     ]
    }
   ],
   "source": [
    "k_fold = KFold(n_splits=10, random_state=SEED,shuffle=True)\n",
    "\n",
    "accuracies = []\n",
    "\n",
    "y_preds = []\n",
    "y_tests = []\n",
    "\n",
    "for train_idx, test_idx in k_fold.split(X):\n",
    "       \n",
    "    X_train = X[train_idx]\n",
    "    X_test = X[test_idx]\n",
    "    y_train = y[train_idx].ravel()\n",
    "    y_test = y[test_idx].ravel()\n",
    "    \n",
    "    scaler = preprocessing.StandardScaler().fit(X_train)\n",
    "    \n",
    "    X_train_scaled = scaler.transform(X_train)\n",
    "    X_test_scaled = scaler.transform(X_test)\n",
    "    \n",
    "    clf = svm.SVC(kernel='rbf')\n",
    "    clf.fit(X_train_scaled,y_train)\n",
    "    \n",
    "    y_pred = clf.predict(X_test_scaled)\n",
    "    \n",
    "    accuracy = metrics.accuracy_score(y_test,y_pred)\n",
    "    \n",
    "    accuracies.append(accuracy)\n",
    "    \n",
    "    # vou usar para montar a matriz de confusão\n",
    "    y_preds.append(y_pred)\n",
    "    y_tests.append(y_test)\n",
    "    \n",
    "accuracies = np.array(accuracies)\n",
    "\n",
    "print(\"A ACURÁCIA DO MODELO É {}\".format(accuracies.mean()))    "
   ]
  },
  {
   "cell_type": "markdown",
   "metadata": {},
   "source": [
    "Comentários:\n",
    "\n",
    "- KFold é um mecanismo para fazer validação cruzada (cross validation) para o treinamento do nosso modelo. Isso é uma forma de evitar overfitting (falhar em generalizar o modelo para casos fora do conjunto de treinamento) e, ao mesmo tempo, nos deixar usar todos os dados do dataset para treinamento.\n",
    "\n",
    "- Eu usei shuffle=True pois o dataset veio ordenado e, se não for embaralhado, os splits vão ser quase todos dentro da mesma classe.\n",
    "\n",
    "- Eu usei random_state=SEED para termos reproducibilidade.\n",
    "\n",
    "- Os dados foram normalizados dentro do split para não haver vazamento de informação. Esse tipo de normalização foi usada pois o nosso dataset não tem muitos outliers.\n",
    "\n",
    "- Os parâmetros default do classificador SVM foram usados (kernel=RBF).\n",
    "\n",
    "- Foi usada Acurácia como métrica de sucesso pois o nosso dataset está bem balanceado com relação às classes (há o mesmo número de amostras em cada classe)."
   ]
  },
  {
   "cell_type": "markdown",
   "metadata": {},
   "source": [
    "# Matriz de confusão\n",
    "\n",
    "Uma matriz de confusão é usada para analisar as ocorrências de falsos positivos e de falsos negativos no resultado do modelo."
   ]
  },
  {
   "cell_type": "code",
   "execution_count": 9,
   "metadata": {},
   "outputs": [],
   "source": [
    "y_tests = np.array(y_tests).ravel()\n",
    "y_preds = np.array(y_preds).ravel()\n",
    "\n",
    "cnf_matrix = metrics.confusion_matrix(y_tests, y_preds)"
   ]
  },
  {
   "cell_type": "code",
   "execution_count": 10,
   "metadata": {
    "scrolled": true
   },
   "outputs": [
    {
     "data": {
      "text/plain": [
       "<matplotlib.text.Text at 0x7f8325f3dc50>"
      ]
     },
     "execution_count": 10,
     "metadata": {},
     "output_type": "execute_result"
    },
    {
     "data": {
      "image/png": "[encoded data removed]",
      "text/plain": [
       "<matplotlib.figure.Figure at 0x7f8327fac240>"
      ]
     },
     "metadata": {},
     "output_type": "display_data"
    }
   ],
   "source": [
    "colour_map = plt.cm.Oranges\n",
    "\n",
    "plt.imshow(cnf_matrix, interpolation='nearest', cmap=colour_map)\n",
    "plt.title('Matriz de Confusão')\n",
    "plt.colorbar()\n",
    "\n",
    "# plotar o gráfico com a matriz derivada no passo anterior\n",
    "for i, j in itertools.product(range(cnf_matrix.shape[0]), range(cnf_matrix.shape[1])):\n",
    "    plt.text(j, i, format(cnf_matrix[i, j], 'd'),\n",
    "             horizontalalignment=\"center\", color=\"limegreen\")\n",
    "    \n",
    "tick_marks = np.array([0,1,2])\n",
    "plt.xticks(tick_marks, [\"G1\",\"G2\",\"G3\"])\n",
    "plt.yticks(tick_marks, [\"G1\",\"G2\",\"G3\"])    \n",
    "    \n",
    "plt.tight_layout()\n",
    "plt.ylabel('Grupo real')\n",
    "plt.xlabel('Grupo previsto pelo modelo')"
   ]
  },
  {
   "cell_type": "markdown",
   "metadata": {},
   "source": [
    "Comentários:\n",
    "\n",
    "- A matriz de confusão mostra que os poucos casos de erro do modelo de dividem em dois casos:\n",
    "\n",
    " - 4 casos erradamente classificados como G2 quando o grupo real era G3\n",
    " - 3 casos erradamente classificados como G3 quando o grupo real era G2\n",
    " \n",
    "- Essa informação é valiosa pois nos mostra exatamente em que casos o modelo tem uma taxa alta de acerto e em que casos há alguns erros.\n",
    "\n",
    "- Como estamos usando validação cruzada (cross-validation), o número de acertos/erros em cada um dos 10 \"folds\" foi somado para se obter o resultado final."
   ]
  },
  {
   "cell_type": "markdown",
   "metadata": {},
   "source": [
    "## Salvar o modelo"
   ]
  },
  {
   "cell_type": "markdown",
   "metadata": {},
   "source": [
    "Os passos anteriores serviram para testar se o modelo tem uma performance boa e se ele está generalizando para exemplos fora do conjunto de treinamento (por isso a validação cruzada).\n",
    "\n",
    "Uma vez estabelecido isso, o próximo passo é treinar o modelo com todos os dados que temos e salvá-lo, para que possa ser usado posteriormente."
   ]
  },
  {
   "cell_type": "code",
   "execution_count": 12,
   "metadata": {},
   "outputs": [],
   "source": [
    "# mesma operação que na etapa de validação\n",
    "X_scaled = preprocessing.StandardScaler().fit_transform(X)\n",
    "\n",
    "clf = svm.SVC(kernel='rbf')\n",
    "clf.fit(X_train_scaled,y_train)\n",
    "\n",
    "# salvar o modelo para uso posterior\n",
    "model_path = PATH_TO_MODEL_DIRECTORY+\"/svm-rbf-model.p\"\n",
    "pickle.dump(clf,open(model_path,\"wb\"))"
   ]
  }
 ],
 "metadata": {
  "kernelspec": {
   "display_name": "Python 3",
   "language": "python",
   "name": "python3"
  },
  "language_info": {
   "codemirror_mode": {
    "name": "ipython",
    "version": 3
   },
   "file_extension": ".py",
   "mimetype": "text/x-python",
   "name": "python",
   "nbconvert_exporter": "python",
   "pygments_lexer": "ipython3",
   "version": "3.4.3"
  }
 },
 "nbformat": 4,
 "nbformat_minor": 2
}
