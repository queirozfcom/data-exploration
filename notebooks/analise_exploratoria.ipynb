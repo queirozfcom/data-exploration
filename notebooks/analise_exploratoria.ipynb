{
 "cells": [
  {
   "cell_type": "code",
   "execution_count": 1,
   "metadata": {},
   "outputs": [],
   "source": [
    "import numpy as np\n",
    "import pandas as pd\n",
    "import matplotlib.pyplot as plt\n",
    "\n",
    "from scipy import stats\n",
    "\n",
    "%matplotlib inline"
   ]
  },
  {
   "cell_type": "code",
   "execution_count": 2,
   "metadata": {},
   "outputs": [],
   "source": [
    "PATH_TO_DATA = '../data/raw/data.csv'"
   ]
  },
  {
   "cell_type": "code",
   "execution_count": 3,
   "metadata": {},
   "outputs": [],
   "source": [
    "df = pd.read_csv(PATH_TO_DATA)"
   ]
  },
  {
   "cell_type": "code",
   "execution_count": 4,
   "metadata": {},
   "outputs": [
    {
     "data": {
      "text/html": [
       "<div>\n",
       "<style>\n",
       "    .dataframe thead tr:only-child th {\n",
       "        text-align: right;\n",
       "    }\n",
       "\n",
       "    .dataframe thead th {\n",
       "        text-align: left;\n",
       "    }\n",
       "\n",
       "    .dataframe tbody tr th {\n",
       "        vertical-align: top;\n",
       "    }\n",
       "</style>\n",
       "<table border=\"1\" class=\"dataframe\">\n",
       "  <thead>\n",
       "    <tr style=\"text-align: right;\">\n",
       "      <th></th>\n",
       "      <th>V1</th>\n",
       "      <th>V2</th>\n",
       "      <th>V3</th>\n",
       "      <th>V4</th>\n",
       "      <th>Grupo</th>\n",
       "    </tr>\n",
       "  </thead>\n",
       "  <tbody>\n",
       "    <tr>\n",
       "      <th>0</th>\n",
       "      <td>5.1</td>\n",
       "      <td>3.5</td>\n",
       "      <td>1.4</td>\n",
       "      <td>0.2</td>\n",
       "      <td>G1</td>\n",
       "    </tr>\n",
       "    <tr>\n",
       "      <th>1</th>\n",
       "      <td>4.9</td>\n",
       "      <td>3.0</td>\n",
       "      <td>1.4</td>\n",
       "      <td>0.2</td>\n",
       "      <td>G1</td>\n",
       "    </tr>\n",
       "    <tr>\n",
       "      <th>2</th>\n",
       "      <td>4.7</td>\n",
       "      <td>3.2</td>\n",
       "      <td>1.3</td>\n",
       "      <td>0.2</td>\n",
       "      <td>G1</td>\n",
       "    </tr>\n",
       "    <tr>\n",
       "      <th>3</th>\n",
       "      <td>4.6</td>\n",
       "      <td>3.1</td>\n",
       "      <td>1.5</td>\n",
       "      <td>0.2</td>\n",
       "      <td>G1</td>\n",
       "    </tr>\n",
       "    <tr>\n",
       "      <th>4</th>\n",
       "      <td>5.0</td>\n",
       "      <td>3.6</td>\n",
       "      <td>1.4</td>\n",
       "      <td>0.2</td>\n",
       "      <td>G1</td>\n",
       "    </tr>\n",
       "  </tbody>\n",
       "</table>\n",
       "</div>"
      ],
      "text/plain": [
       "    V1   V2   V3   V4 Grupo\n",
       "0  5.1  3.5  1.4  0.2    G1\n",
       "1  4.9  3.0  1.4  0.2    G1\n",
       "2  4.7  3.2  1.3  0.2    G1\n",
       "3  4.6  3.1  1.5  0.2    G1\n",
       "4  5.0  3.6  1.4  0.2    G1"
      ]
     },
     "execution_count": 4,
     "metadata": {},
     "output_type": "execute_result"
    }
   ],
   "source": [
    "df.head()"
   ]
  },
  {
   "cell_type": "markdown",
   "metadata": {},
   "source": [
    "## Atributos numéricos\n",
    "\n",
    "Quantidade, média, desvio padrão, mínimo, máximo e quartis das variáveis numéricas. "
   ]
  },
  {
   "cell_type": "code",
   "execution_count": 5,
   "metadata": {},
   "outputs": [
    {
     "data": {
      "text/html": [
       "<div>\n",
       "<style>\n",
       "    .dataframe thead tr:only-child th {\n",
       "        text-align: right;\n",
       "    }\n",
       "\n",
       "    .dataframe thead th {\n",
       "        text-align: left;\n",
       "    }\n",
       "\n",
       "    .dataframe tbody tr th {\n",
       "        vertical-align: top;\n",
       "    }\n",
       "</style>\n",
       "<table border=\"1\" class=\"dataframe\">\n",
       "  <thead>\n",
       "    <tr style=\"text-align: right;\">\n",
       "      <th></th>\n",
       "      <th>V1</th>\n",
       "      <th>V2</th>\n",
       "      <th>V3</th>\n",
       "      <th>V4</th>\n",
       "    </tr>\n",
       "  </thead>\n",
       "  <tbody>\n",
       "    <tr>\n",
       "      <th>count</th>\n",
       "      <td>150.000000</td>\n",
       "      <td>150.000000</td>\n",
       "      <td>150.000000</td>\n",
       "      <td>150.000000</td>\n",
       "    </tr>\n",
       "    <tr>\n",
       "      <th>mean</th>\n",
       "      <td>5.843333</td>\n",
       "      <td>3.054000</td>\n",
       "      <td>3.758667</td>\n",
       "      <td>1.198667</td>\n",
       "    </tr>\n",
       "    <tr>\n",
       "      <th>std</th>\n",
       "      <td>0.828066</td>\n",
       "      <td>0.433594</td>\n",
       "      <td>1.764420</td>\n",
       "      <td>0.763161</td>\n",
       "    </tr>\n",
       "    <tr>\n",
       "      <th>min</th>\n",
       "      <td>4.300000</td>\n",
       "      <td>2.000000</td>\n",
       "      <td>1.000000</td>\n",
       "      <td>0.100000</td>\n",
       "    </tr>\n",
       "    <tr>\n",
       "      <th>25%</th>\n",
       "      <td>5.100000</td>\n",
       "      <td>2.800000</td>\n",
       "      <td>1.600000</td>\n",
       "      <td>0.300000</td>\n",
       "    </tr>\n",
       "    <tr>\n",
       "      <th>50%</th>\n",
       "      <td>5.800000</td>\n",
       "      <td>3.000000</td>\n",
       "      <td>4.350000</td>\n",
       "      <td>1.300000</td>\n",
       "    </tr>\n",
       "    <tr>\n",
       "      <th>75%</th>\n",
       "      <td>6.400000</td>\n",
       "      <td>3.300000</td>\n",
       "      <td>5.100000</td>\n",
       "      <td>1.800000</td>\n",
       "    </tr>\n",
       "    <tr>\n",
       "      <th>max</th>\n",
       "      <td>7.900000</td>\n",
       "      <td>4.400000</td>\n",
       "      <td>6.900000</td>\n",
       "      <td>2.500000</td>\n",
       "    </tr>\n",
       "  </tbody>\n",
       "</table>\n",
       "</div>"
      ],
      "text/plain": [
       "               V1          V2          V3          V4\n",
       "count  150.000000  150.000000  150.000000  150.000000\n",
       "mean     5.843333    3.054000    3.758667    1.198667\n",
       "std      0.828066    0.433594    1.764420    0.763161\n",
       "min      4.300000    2.000000    1.000000    0.100000\n",
       "25%      5.100000    2.800000    1.600000    0.300000\n",
       "50%      5.800000    3.000000    4.350000    1.300000\n",
       "75%      6.400000    3.300000    5.100000    1.800000\n",
       "max      7.900000    4.400000    6.900000    2.500000"
      ]
     },
     "execution_count": 5,
     "metadata": {},
     "output_type": "execute_result"
    }
   ],
   "source": [
    "df.describe(include=[np.number])"
   ]
  },
  {
   "cell_type": "markdown",
   "metadata": {},
   "source": [
    "## Atributos categóricos\n",
    "\n",
    "Quantidade, número de valores distintos e frequência dos valores."
   ]
  },
  {
   "cell_type": "code",
   "execution_count": 6,
   "metadata": {},
   "outputs": [
    {
     "data": {
      "text/html": [
       "<div>\n",
       "<style>\n",
       "    .dataframe thead tr:only-child th {\n",
       "        text-align: right;\n",
       "    }\n",
       "\n",
       "    .dataframe thead th {\n",
       "        text-align: left;\n",
       "    }\n",
       "\n",
       "    .dataframe tbody tr th {\n",
       "        vertical-align: top;\n",
       "    }\n",
       "</style>\n",
       "<table border=\"1\" class=\"dataframe\">\n",
       "  <thead>\n",
       "    <tr style=\"text-align: right;\">\n",
       "      <th></th>\n",
       "      <th>Grupo</th>\n",
       "    </tr>\n",
       "  </thead>\n",
       "  <tbody>\n",
       "    <tr>\n",
       "      <th>count</th>\n",
       "      <td>150</td>\n",
       "    </tr>\n",
       "    <tr>\n",
       "      <th>unique</th>\n",
       "      <td>3</td>\n",
       "    </tr>\n",
       "    <tr>\n",
       "      <th>top</th>\n",
       "      <td>G2</td>\n",
       "    </tr>\n",
       "    <tr>\n",
       "      <th>freq</th>\n",
       "      <td>50</td>\n",
       "    </tr>\n",
       "  </tbody>\n",
       "</table>\n",
       "</div>"
      ],
      "text/plain": [
       "       Grupo\n",
       "count    150\n",
       "unique     3\n",
       "top       G2\n",
       "freq      50"
      ]
     },
     "execution_count": 6,
     "metadata": {},
     "output_type": "execute_result"
    }
   ],
   "source": [
    "df.describe(include=[np.object])"
   ]
  },
  {
   "cell_type": "markdown",
   "metadata": {},
   "source": [
    "# Quantidade de amostras por grupo\n",
    "\n",
    "Quantas amostras temos por grupo?"
   ]
  },
  {
   "cell_type": "code",
   "execution_count": 7,
   "metadata": {},
   "outputs": [
    {
     "data": {
      "text/html": [
       "<div>\n",
       "<style>\n",
       "    .dataframe thead tr:only-child th {\n",
       "        text-align: right;\n",
       "    }\n",
       "\n",
       "    .dataframe thead th {\n",
       "        text-align: left;\n",
       "    }\n",
       "\n",
       "    .dataframe tbody tr th {\n",
       "        vertical-align: top;\n",
       "    }\n",
       "</style>\n",
       "<table border=\"1\" class=\"dataframe\">\n",
       "  <thead>\n",
       "    <tr style=\"text-align: right;\">\n",
       "      <th></th>\n",
       "      <th>V1</th>\n",
       "      <th>V2</th>\n",
       "      <th>V3</th>\n",
       "      <th>V4</th>\n",
       "    </tr>\n",
       "    <tr>\n",
       "      <th>Grupo</th>\n",
       "      <th></th>\n",
       "      <th></th>\n",
       "      <th></th>\n",
       "      <th></th>\n",
       "    </tr>\n",
       "  </thead>\n",
       "  <tbody>\n",
       "    <tr>\n",
       "      <th>G1</th>\n",
       "      <td>50</td>\n",
       "      <td>50</td>\n",
       "      <td>50</td>\n",
       "      <td>50</td>\n",
       "    </tr>\n",
       "    <tr>\n",
       "      <th>G2</th>\n",
       "      <td>50</td>\n",
       "      <td>50</td>\n",
       "      <td>50</td>\n",
       "      <td>50</td>\n",
       "    </tr>\n",
       "    <tr>\n",
       "      <th>G3</th>\n",
       "      <td>50</td>\n",
       "      <td>50</td>\n",
       "      <td>50</td>\n",
       "      <td>50</td>\n",
       "    </tr>\n",
       "  </tbody>\n",
       "</table>\n",
       "</div>"
      ],
      "text/plain": [
       "       V1  V2  V3  V4\n",
       "Grupo                \n",
       "G1     50  50  50  50\n",
       "G2     50  50  50  50\n",
       "G3     50  50  50  50"
      ]
     },
     "execution_count": 7,
     "metadata": {},
     "output_type": "execute_result"
    }
   ],
   "source": [
    "df.groupby('Grupo').count()"
   ]
  },
  {
   "cell_type": "markdown",
   "metadata": {},
   "source": [
    "Comentários: \n",
    "\n",
    "- Há o mesmo número de amostras (50) em cada grupo, para um total de 150 amostras.\n",
    "\n",
    "- O número de amostras é relativamente pequeno. A confiabilidade dos resultados é maior se houver mais dados à disposição."
   ]
  },
  {
   "cell_type": "markdown",
   "metadata": {},
   "source": [
    "# Distribuição das variáveis por grupo\n",
    "\n",
    "Qual a distribuição de cada variável quando separamos por grupo?"
   ]
  },
  {
   "cell_type": "markdown",
   "metadata": {},
   "source": [
    "O boxplot mostra algumas estatísticas sobre uma amostra. Dados como:\n",
    "\n",
    "- a mediana (linha vermelha horizontal)\n",
    "- limites do primeiro, segundo e terceiro quartis (outras linhas horizontais)\n",
    "- outliers (marcados com um símbolo '+')"
   ]
  },
  {
   "cell_type": "code",
   "execution_count": 8,
   "metadata": {},
   "outputs": [],
   "source": [
    "v11,v12,v13 = df.groupby('Grupo')['V1']"
   ]
  },
  {
   "cell_type": "code",
   "execution_count": 9,
   "metadata": {},
   "outputs": [
    {
     "data": {
      "text/plain": [
       "(50, 3)"
      ]
     },
     "execution_count": 9,
     "metadata": {},
     "output_type": "execute_result"
    }
   ],
   "source": [
    "v11_values = v11[1].values.reshape(-1,1)\n",
    "v12_values = v12[1].values.reshape(-1,1)\n",
    "v13_values = v13[1].values.reshape(-1,1)\n",
    "\n",
    "data_g1 = np.hstack([v11_values,v12_values,v13_values])\n",
    "\n",
    "data_g1.shape"
   ]
  },
  {
   "cell_type": "code",
   "execution_count": 10,
   "metadata": {},
   "outputs": [
    {
     "data": {
      "image/png": "[encoded data removed]",
      "text/plain": [
       "<matplotlib.figure.Figure at 0x7f6e3c2212e8>"
      ]
     },
     "metadata": {},
     "output_type": "display_data"
    }
   ],
   "source": [
    "plt.figure()\n",
    "plt.gca().set_title('V1 distribution over groups',fontsize=20)\n",
    "plt.gcf().set_size_inches(8,8)\n",
    "plt.boxplot(data_g1,labels=['G1','G2','G3'])\n",
    "plt.show()"
   ]
  },
  {
   "cell_type": "markdown",
   "metadata": {},
   "source": [
    "Comentários: \n",
    "\n",
    "- Os grupos apresentam variância parecida, sendo a variância do grupo G3 (para a variável V1) um pouco maior.\n",
    "\n",
    "- Há um valor de V1 que é um outlier no grupo G3.\n",
    "\n",
    "- Valores para V1 são geralmente maiores em G3 do que em G2 que, por sua vez, tem em geral valores maiores do que os valores em G1."
   ]
  },
  {
   "cell_type": "code",
   "execution_count": 11,
   "metadata": {},
   "outputs": [],
   "source": [
    "# vamos extrair isso para uma função para não ter que \n",
    "# repetir esse código para cada variável\n",
    "def plot_variable_values_for_groups(variable_name,source_dataframe):\n",
    "    \n",
    "    groups = source_dataframe.groupby('Grupo')[variable_name]\n",
    "        \n",
    "    values = [g[1].values.reshape(-1,1) for g in groups]\n",
    "    group_names = [g[0] for g in groups]\n",
    "        \n",
    "    data_g1 = np.hstack(values)\n",
    "    \n",
    "    plt.figure()\n",
    "    ax = plt.gca()\n",
    "    ax.set_title('{} distribution over groups'.format(variable_name),fontsize=20)\n",
    "    \n",
    "    # more space around the plots\n",
    "    ax.margins(y=0.05)\n",
    "\n",
    "    plt.gcf().set_size_inches(8,8)\n",
    "    plt.boxplot(data_g1,labels=group_names)\n",
    "    plt.show()"
   ]
  },
  {
   "cell_type": "code",
   "execution_count": 12,
   "metadata": {},
   "outputs": [
    {
     "data": {
      "image/png": "[encoded data removed]",
      "text/plain": [
       "<matplotlib.figure.Figure at 0x7f6e3c1d91d0>"
      ]
     },
     "metadata": {},
     "output_type": "display_data"
    }
   ],
   "source": [
    "# distribuição da variável V2 em cada grupo\n",
    "plot_variable_values_for_groups('V2',df)"
   ]
  },
  {
   "cell_type": "markdown",
   "metadata": {},
   "source": [
    "Comentários: \n",
    "\n",
    "- O grupo G1 parece ter maior variância que os outros.\n",
    "\n",
    "- Há alguns outliers para V2 no grupo G3.\n",
    "\n",
    "- Valores para V2 são geralmente maiores em G1 do que em G3 que, por sua vez, tem em geral valores maiores do que os valores em G2."
   ]
  },
  {
   "cell_type": "code",
   "execution_count": 13,
   "metadata": {},
   "outputs": [
    {
     "data": {
      "image/png": "[encoded data removed]",
      "text/plain": [
       "<matplotlib.figure.Figure at 0x7f6e3c18e908>"
      ]
     },
     "metadata": {},
     "output_type": "display_data"
    }
   ],
   "source": [
    "# distribuição da variável V3 em cada grupo\n",
    "plot_variable_values_for_groups('V3',df)"
   ]
  },
  {
   "cell_type": "markdown",
   "metadata": {},
   "source": [
    "Comentários: \n",
    "\n",
    "- O grupo G1 parece ter menor variância que os outros, mas tem alguns outliers.\n",
    "\n",
    "- Valores para V3 são geralmente maiores em G1 do que em G2. Os valores de V3 em G1 são consistentemente mais baixos do que os dos outros dois grupos."
   ]
  },
  {
   "cell_type": "code",
   "execution_count": 14,
   "metadata": {},
   "outputs": [
    {
     "data": {
      "image/png": "[encoded data removed]",
      "text/plain": [
       "<matplotlib.figure.Figure at 0x7f6e36831ef0>"
      ]
     },
     "metadata": {},
     "output_type": "display_data"
    }
   ],
   "source": [
    "# distribuição da variável V4 em cada grupo\n",
    "plot_variable_values_for_groups('V4',df)"
   ]
  },
  {
   "cell_type": "markdown",
   "metadata": {},
   "source": [
    "Comentários:\n",
    "\n",
    "- Novamente, o grupo G1 parece ter menor variância que os outros, mas tem alguns outliers.\n",
    "\n",
    "- Novamente, valores para V4 são geralmente maiores em G1 do que em G2. Os valores de V4 em G1 são consistentemente mais baixos do que os dos outros dois grupos."
   ]
  },
  {
   "cell_type": "markdown",
   "metadata": {},
   "source": [
    "# Correlação entre as variáveis livres\n",
    "\n",
    "Variáveis muito correlacionadas tem menor poder preditivo e podem ajudar na etapa de seleção de features. Além disso, é útil para visualização."
   ]
  },
  {
   "cell_type": "code",
   "execution_count": 15,
   "metadata": {},
   "outputs": [
    {
     "data": {
      "image/png": "[encoded data removed]",
      "text/plain": [
       "<matplotlib.figure.Figure at 0x7f6e367729e8>"
      ]
     },
     "metadata": {},
     "output_type": "display_data"
    }
   ],
   "source": [
    "f, axes = plt.subplots(2, 3)\n",
    "\n",
    "plt.tight_layout(pad=0.4, w_pad=0.5, h_pad=1.0)\n",
    "\n",
    "df.plot.scatter(x='V1',y='V2',ax=axes[0,0])\n",
    "axes[0,0].set_title('V1,V2',fontsize=15)\n",
    "\n",
    "df.plot.scatter(x='V2',y='V3',ax=axes[0,1])\n",
    "axes[0,1].set_title('V2,V3',fontsize=15)\n",
    "\n",
    "df.plot.scatter(x='V3',y='V4',ax=axes[0,2])\n",
    "axes[0,2].set_title('V3,V4',fontsize=15)\n",
    "\n",
    "df.plot.scatter(x='V1',y='V3',ax=axes[1,0])\n",
    "axes[1,0].set_title('V1,V3',fontsize=15)\n",
    "\n",
    "df.plot.scatter(x='V1',y='V4',ax=axes[1,1])\n",
    "axes[1,1].set_title('V1,V4',fontsize=15)\n",
    "\n",
    "df.plot.scatter(x='V2',y='V4',ax=axes[1,2])\n",
    "axes[1,2].set_title('V2,V4',fontsize=15)\n",
    "\n",
    "plt.gcf().set_size_inches(16,8)\n",
    "plt.show()"
   ]
  },
  {
   "cell_type": "markdown",
   "metadata": {},
   "source": [
    "Comentários:\n",
    "\n",
    "- Parece que as variáveis livres mais correlacionadas são as variáveis (V3,V4), (V1,V3) e (V1,V4).\n",
    "\n",
    "- Vamos confirmar isso usando um coeficiente de correlação, por exemplo o coeficiente de Pearson.\n",
    "\n",
    " - Coeficientes de correlação variam entre -1 (correlação negativa) e 1 (correlação positiva), sendo zero se as variáveis não estiverem correlacionadas.\n"
   ]
  },
  {
   "cell_type": "code",
   "execution_count": 16,
   "metadata": {},
   "outputs": [
    {
     "name": "stdout",
     "output_type": "stream",
     "text": [
      "Pearson Corr entre V1 e V2: -0.10936924995064935\n",
      "Pearson Corr entre V2 e V3: -0.42051609640115445\n",
      "Pearson Corr entre V3 e V4: 0.9627570970509662\n",
      "Pearson Corr entre V1 e V3: 0.8717541573048712\n",
      "Pearson Corr entre V1 e V4: 0.8179536333691633\n",
      "Pearson Corr entre V2 e V4: -0.3565440896138059\n"
     ]
    }
   ],
   "source": [
    "pairs = [\n",
    "    (\"V1\",\"V2\"),\n",
    "    (\"V2\",\"V3\"),\n",
    "    (\"V3\",\"V4\"),\n",
    "    (\"V1\",\"V3\"),\n",
    "    (\"V1\",\"V4\"),\n",
    "    (\"V2\",\"V4\")\n",
    "]\n",
    "\n",
    "for (var1,var2) in pairs:\n",
    "    corr_coef = stats.pearsonr(df[var1].values, df[var2].values)[0]\n",
    "    print(\"Pearson Corr entre {} e {}: {}\".format(var1,var2,corr_coef))"
   ]
  },
  {
   "cell_type": "markdown",
   "metadata": {},
   "source": [
    "Comentários:\n",
    "\n",
    "- Os pares de variáveis (V3,V4), (V1,V3) e (V1,V4) tem, realmente, as maiores correlações de acordo com o coeficiente de Pearson, com coeficientes de 0.96, 0.87 e 0.81, respectivamente."
   ]
  }
 ],
 "metadata": {
  "kernelspec": {
   "display_name": "Global TF Kernel (Python 3)",
   "language": "python",
   "name": "global-tf-python-3"
  },
  "language_info": {
   "codemirror_mode": {
    "name": "ipython",
    "version": 3
   },
   "file_extension": ".py",
   "mimetype": "text/x-python",
   "name": "python",
   "nbconvert_exporter": "python",
   "pygments_lexer": "ipython3",
   "version": "3.5.2"
  }
 },
 "nbformat": 4,
 "nbformat_minor": 2
}
